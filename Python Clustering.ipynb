{
 "cells": [
  {
   "cell_type": "markdown",
   "metadata": {},
   "source": [
    "## Clustering\n",
    "In this exercise, you will use K-Means clustering to segment customer data into five clusters.\n",
    "\n",
    "### Import the Libraries\n",
    "You will use the **KMeans** class to create your model. This will require a vector of features, so you will also use the **VectorAssembler** class.\n"
   ]
  },
  {
   "cell_type": "code",
   "execution_count": 1,
   "metadata": {},
   "outputs": [],
   "source": [
    "import os\n",
    "os.environ[\"HADOOP_USER_NAME\"] = \"spark\"\n",
    "os.environ[\"SPARK_MAJOR_VERSION\"] = \"2\"\n",
    "os.environ[\"SPARK_HOME\"] = \"/usr/hdp/current/spark2-client\"\n",
    "import findspark\n",
    "findspark.init()\n",
    "import pyspark"
   ]
  },
  {
   "cell_type": "code",
   "execution_count": 2,
   "metadata": {
    "scrolled": false
   },
   "outputs": [],
   "source": [
    "from pyspark.sql.types import *\n",
    "from pyspark.sql.functions import *\n",
    "from pyspark.sql import SparkSession\n",
    "from pyspark.ml.clustering import KMeans\n",
    "from pyspark.ml.feature import VectorAssembler"
   ]
  },
  {
   "cell_type": "markdown",
   "metadata": {},
   "source": [
    "### Load Source Data\n",
    "The source data for your clusters is in a comma-separated values (CSV) file, and incldues the following features:\n",
    "- CustomerName: The custome's name\n",
    "- Age: The customer's age in years\n",
    "- MaritalStatus: The custtomer's marital status (1=Married, 0 = Unmarried)\n",
    "- IncomeRange: The top-level for the customer's income range (for example, a value of 25,000 means the customer earns up to 25,000)\n",
    "- Gender: A numeric value indicating gender (1 = female, 2 = male)\n",
    "- TotalChildren: The total number of children the customer has\n",
    "- ChildrenAtHome: The number of children the customer has living at home.\n",
    "- Education: A numeric value indicating the highest level of education the customer has attained (1=Started High School to 5=Post-Graduate Degree\n",
    "- Occupation: A numeric value indicating the type of occupation of the customer (0=Unskilled manual work to 5=Professional)\n",
    "- HomeOwner: A numeric code to indicate home-ownership (1 - home owner, 0 = not a home owner)\n",
    "- Cars: The number of cars owned by the customer."
   ]
  },
  {
   "cell_type": "code",
   "execution_count": 3,
   "metadata": {
    "scrolled": false
   },
   "outputs": [
    {
     "name": "stdout",
     "output_type": "stream",
     "text": [
      "+---------------+---+-------------+-----------+------+-------------+--------------+---------+----------+---------+----+\n",
      "|   CustomerName|Age|MaritalStatus|IncomeRange|Gender|TotalChildren|ChildrenAtHome|Education|Occupation|HomeOwner|Cars|\n",
      "+---------------+---+-------------+-----------+------+-------------+--------------+---------+----------+---------+----+\n",
      "|    Aaron Adams| 42|            0|      50000|     0|            0|             0|        3|         2|        1|   1|\n",
      "|Aaron Alexander| 40|            1|      50000|     0|            0|             0|        2|         2|        1|   2|\n",
      "|    Aaron Allen| 63|            0|      25000|     0|            2|             1|        2|         1|        1|   2|\n",
      "|    Aaron Baker| 56|            1|      50000|     0|            4|             2|        2|         2|        1|   2|\n",
      "|   Aaron Bryant| 72|            0|      75000|     0|            4|             0|        4|         4|        1|   2|\n",
      "|   Aaron Butler| 42|            1|      75000|     0|            0|             0|        3|         5|        1|   2|\n",
      "| Aaron Campbell| 49|            0|      75000|     0|            0|             0|        5|         5|        1|   1|\n",
      "|   Aaron Carter| 42|            0|      50000|     0|            0|             0|        3|         2|        0|   1|\n",
      "|     Aaron Chen| 57|            1|      75000|     0|            4|             3|        4|         5|        1|   0|\n",
      "|  Aaron Coleman| 42|            0|      50000|     0|            0|             0|        3|         2|        1|   1|\n",
      "|  Aaron Collins| 56|            0|     150000|     0|            1|             1|        5|         4|        0|   2|\n",
      "|     Aaron Diaz| 47|            1|     100000|     0|            2|             0|        4|         5|        1|   0|\n",
      "|  Aaron Edwards| 53|            1|     150000|     0|            4|             2|        4|         4|        1|   4|\n",
      "|    Aaron Evans| 46|            0|      75000|     0|            4|             0|        5|         5|        0|   0|\n",
      "|   Aaron Flores| 53|            0|      75000|     0|            0|             0|        4|         5|        0|   1|\n",
      "|   Aaron Foster| 57|            1|      75000|     0|            2|             0|        5|         5|        1|   1|\n",
      "| Aaron Gonzales| 45|            1|      75000|     0|            1|             1|        5|         2|        1|   0|\n",
      "| Aaron Gonzalez| 43|            1|      50000|     0|            1|             0|        5|         2|        1|   0|\n",
      "|    Aaron Green| 72|            1|      50000|     0|            5|             0|        1|         3|        0|   2|\n",
      "|    Aaron Green| 72|            1|      50000|     0|            5|             0|        1|         3|        0|   2|\n",
      "+---------------+---+-------------+-----------+------+-------------+--------------+---------+----------+---------+----+\n",
      "only showing top 20 rows\n",
      "\n"
     ]
    }
   ],
   "source": [
    "spark = SparkSession.builder.appName('python-recommenders').getOrCreate()\n",
    "spark.conf.set('spark.executor.memory', '3g')\n",
    "spark.conf.set('spark.executor.cores', '3')\n",
    "spark.conf.set('spark.cores.max', '3')\n",
    "spark.conf.set('spark.driver.memory','3g')\n",
    "customers = spark.read.csv('/user/maria_dev/data/customers.csv', inferSchema=True, header=True)\n",
    "customers.show()"
   ]
  },
  {
   "cell_type": "markdown",
   "metadata": {},
   "source": [
    "### Create the K-Means Model\n",
    "You will use the feaures in the customer data to create a Kn-Means model with a k value of 5. This will be used to generate 5 clusters."
   ]
  },
  {
   "cell_type": "code",
   "execution_count": 4,
   "metadata": {
    "scrolled": false
   },
   "outputs": [
    {
     "name": "stdout",
     "output_type": "stream",
     "text": [
      "Model Created!\n"
     ]
    }
   ],
   "source": [
    "assembler = VectorAssembler(inputCols = [\"Age\", \"MaritalStatus\", \"IncomeRange\", \"Gender\", \"TotalChildren\", \"ChildrenAtHome\", \"Education\", \"Occupation\", \"HomeOwner\", \"Cars\"], outputCol=\"features\")\n",
    "train = assembler.transform(customers)\n",
    "\n",
    "kmeans = KMeans(featuresCol=assembler.getOutputCol(), predictionCol=\"cluster\", k=5, seed=0)\n",
    "model = kmeans.fit(train)\n",
    "print \"Model Created!\""
   ]
  },
  {
   "cell_type": "markdown",
   "metadata": {},
   "source": [
    "### Get the Cluster Centers\n",
    "The cluster centers are indicated as vector coordinates."
   ]
  },
  {
   "cell_type": "code",
   "execution_count": 5,
   "metadata": {
    "scrolled": false
   },
   "outputs": [
    {
     "name": "stdout",
     "output_type": "stream",
     "text": [
      "Cluster Centers: \n",
      "[5.19737441e+01 5.26868545e-01 5.00000000e+04 4.93961141e-01\n",
      " 1.34552774e+00 4.98337126e-01 3.23035183e+00 2.77927534e+00\n",
      " 6.62699107e-01 1.14615789e+00]\n",
      "[5.82794840e+01 6.22850123e-01 1.50000000e+05 4.79729730e-01\n",
      " 2.07248157e+00 3.20638821e+00 3.41461916e+00 4.34705160e+00\n",
      " 6.48648649e-01 3.10995086e+00]\n",
      "[5.53417813e+01 5.72411296e-01 1.00000000e+05 4.97103548e-01\n",
      " 2.54380883e+00 1.54272266e+00 3.46198407e+00 4.19116582e+00\n",
      " 7.16509776e-01 1.94532947e+00]\n",
      "[5.60711289e+01 5.83804487e-01 7.50000000e+04 5.03921211e-01\n",
      " 2.17308043e+00 8.16706183e-01 3.73244574e+00 3.92759438e+00\n",
      " 7.23326646e-01 1.38063104e+00]\n",
      "[5.31013005e+01 4.17180014e-01 2.50000000e+04 4.80492813e-01\n",
      " 1.41512663e+00 6.08487337e-01 2.31622177e+00 1.45448323e+00\n",
      " 5.93086927e-01 1.11464750e+00]\n"
     ]
    }
   ],
   "source": [
    "centers = model.clusterCenters()\n",
    "print(\"Cluster Centers: \")\n",
    "for center in centers:\n",
    "    print(center)"
   ]
  },
  {
   "cell_type": "markdown",
   "metadata": {},
   "source": [
    "### Predict Clusters\n",
    "Now that you have trained the model, you can use it to segemnt the customer data into 5 clusters and show each customer with their allocated cluster."
   ]
  },
  {
   "cell_type": "code",
   "execution_count": 6,
   "metadata": {
    "scrolled": false
   },
   "outputs": [
    {
     "name": "stdout",
     "output_type": "stream",
     "text": [
      "+-------+-----+\n",
      "|cluster|count|\n",
      "+-------+-----+\n",
      "|      0| 5713|\n",
      "|      1| 1628|\n",
      "|      2| 2762|\n",
      "|      3| 5483|\n",
      "|      4| 2922|\n",
      "+-------+-----+\n",
      "\n"
     ]
    }
   ],
   "source": [
    "prediction = model.transform(train)\n",
    "prediction.groupBy(\"cluster\").count().orderBy(\"cluster\").show()"
   ]
  },
  {
   "cell_type": "code",
   "execution_count": 7,
   "metadata": {},
   "outputs": [
    {
     "name": "stdout",
     "output_type": "stream",
     "text": [
      "+----------------+-------+\n",
      "|    CustomerName|cluster|\n",
      "+----------------+-------+\n",
      "|     Aaron Adams|      0|\n",
      "| Aaron Alexander|      0|\n",
      "|     Aaron Allen|      4|\n",
      "|     Aaron Baker|      0|\n",
      "|    Aaron Bryant|      3|\n",
      "|    Aaron Butler|      3|\n",
      "|  Aaron Campbell|      3|\n",
      "|    Aaron Carter|      0|\n",
      "|      Aaron Chen|      3|\n",
      "|   Aaron Coleman|      0|\n",
      "|   Aaron Collins|      1|\n",
      "|      Aaron Diaz|      2|\n",
      "|   Aaron Edwards|      1|\n",
      "|     Aaron Evans|      3|\n",
      "|    Aaron Flores|      3|\n",
      "|    Aaron Foster|      3|\n",
      "|  Aaron Gonzales|      3|\n",
      "|  Aaron Gonzalez|      0|\n",
      "|     Aaron Green|      0|\n",
      "|     Aaron Green|      0|\n",
      "|   Aaron Griffin|      4|\n",
      "|      Aaron Hall|      0|\n",
      "|     Aaron Hayes|      2|\n",
      "| Aaron Henderson|      0|\n",
      "| Aaron Hernandez|      0|\n",
      "|      Aaron Hill|      2|\n",
      "|    Aaron Hughes|      2|\n",
      "|       Aaron Jai|      3|\n",
      "|   Aaron Jenkins|      0|\n",
      "|      Aaron King|      3|\n",
      "|     Aaron Kumar|      3|\n",
      "|       Aaron Lal|      0|\n",
      "|        Aaron Li|      3|\n",
      "|  Aaron McDonald|      0|\n",
      "|  Aaron Mitchell|      2|\n",
      "|    Aaron Nelson|      3|\n",
      "| Aaron Patterson|      0|\n",
      "|     Aaron Perez|      3|\n",
      "|     Aaron Perry|      1|\n",
      "|  Aaron Phillips|      0|\n",
      "|    Aaron Powell|      2|\n",
      "|   Aaron Roberts|      3|\n",
      "|      Aaron Ross|      3|\n",
      "|   Aaron Russell|      4|\n",
      "|     Aaron Scott|      3|\n",
      "|      Aaron Shan|      0|\n",
      "|    Aaron Sharma|      3|\n",
      "|   Aaron Simmons|      3|\n",
      "|      Aaron Wang|      1|\n",
      "|Aaron Washington|      0|\n",
      "+----------------+-------+\n",
      "only showing top 50 rows\n",
      "\n"
     ]
    }
   ],
   "source": [
    "prediction.select(\"CustomerName\", \"cluster\").show(50)"
   ]
  },
  {
   "cell_type": "code",
   "execution_count": null,
   "metadata": {},
   "outputs": [],
   "source": []
  }
 ],
 "metadata": {
  "kernelspec": {
   "display_name": "Python 2",
   "language": "python",
   "name": "python2"
  },
  "language_info": {
   "codemirror_mode": {
    "name": "ipython",
    "version": 2
   },
   "file_extension": ".py",
   "mimetype": "text/x-python",
   "name": "python",
   "nbconvert_exporter": "python",
   "pygments_lexer": "ipython2",
   "version": "2.7.5"
  }
 },
 "nbformat": 4,
 "nbformat_minor": 1
}
