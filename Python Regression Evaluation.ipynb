{
 "cells": [
  {
   "cell_type": "markdown",
   "metadata": {},
   "source": [
    "## Evaluating a Regression Model\n",
    "\n",
    "In this exercise, you will create a pipeline for a linear regression model, and then test and evaluate the model.\n",
    "\n",
    "### Prepare the Data\n",
    "\n",
    "First, import the libraries you will need and prepare the training and test data:"
   ]
  },
  {
   "cell_type": "code",
   "execution_count": 1,
   "metadata": {},
   "outputs": [],
   "source": [
    "import os\n",
    "os.environ[\"HADOOP_USER_NAME\"] = \"spark\"\n",
    "os.environ[\"SPARK_MAJOR_VERSION\"] = \"2\"\n",
    "os.environ[\"SPARK_HOME\"] = \"/usr/hdp/current/spark2-client\"\n",
    "import findspark\n",
    "findspark.init()\n",
    "import pyspark"
   ]
  },
  {
   "cell_type": "code",
   "execution_count": 2,
   "metadata": {
    "scrolled": false
   },
   "outputs": [],
   "source": [
    "# Import Spark SQL and Spark ML libraries\n",
    "from pyspark.sql.types import *\n",
    "from pyspark.sql.functions import *\n",
    "from pyspark.sql import SparkSession\n",
    "from pyspark.ml import Pipeline\n",
    "from pyspark.ml.regression import LinearRegression\n",
    "from pyspark.ml.feature import VectorAssembler"
   ]
  },
  {
   "cell_type": "code",
   "execution_count": 3,
   "metadata": {},
   "outputs": [],
   "source": [
    "spark = SparkSession.builder.appName('python-regression-evaluation').getOrCreate()\n",
    "spark.conf.set('spark.executor.memory', '3g')\n",
    "spark.conf.set('spark.executor.cores', '3')\n",
    "spark.conf.set('spark.cores.max', '3')\n",
    "spark.conf.set('spark.driver.memory','3g')"
   ]
  },
  {
   "cell_type": "code",
   "execution_count": 4,
   "metadata": {},
   "outputs": [],
   "source": [
    "# Load the source data\n",
    "csv = spark.read.csv('/user/maria_dev/data/flights.csv', inferSchema=True, header=True)\n",
    "\n",
    "# Select features and label\n",
    "data = csv.select(\"DayofMonth\", \"DayOfWeek\", \"OriginAirportID\", \"DestAirportID\", \"DepDelay\", col(\"ArrDelay\").alias(\"label\"))\n",
    "\n",
    "# Split the data\n",
    "splits = data.randomSplit([0.7, 0.3])\n",
    "train = splits[0]\n",
    "test = splits[1].withColumnRenamed(\"label\", \"trueLabel\")"
   ]
  },
  {
   "cell_type": "markdown",
   "metadata": {},
   "source": [
    "### Define the Pipeline and Train the Model\n",
    "Now define a pipeline that creates a feature vector and trains a regression model"
   ]
  },
  {
   "cell_type": "code",
   "execution_count": 5,
   "metadata": {
    "scrolled": false
   },
   "outputs": [],
   "source": [
    "# Define the pipeline\n",
    "assembler = VectorAssembler(inputCols = [\"DayofMonth\", \"DayOfWeek\", \"OriginAirportID\", \"DestAirportID\", \"DepDelay\"], outputCol=\"features\")\n",
    "lr = LinearRegression(labelCol=\"label\",featuresCol=\"features\", maxIter=10, regParam=0.3)\n",
    "pipeline = Pipeline(stages=[assembler, lr])\n",
    "\n",
    "# Train the model\n",
    "piplineModel = pipeline.fit(train)"
   ]
  },
  {
   "cell_type": "markdown",
   "metadata": {},
   "source": [
    "### Test the Model\n",
    "Now you're ready to apply the model to the test data."
   ]
  },
  {
   "cell_type": "code",
   "execution_count": 6,
   "metadata": {
    "scrolled": false
   },
   "outputs": [
    {
     "name": "stdout",
     "output_type": "stream",
     "text": [
      "+--------------------+-------------------+---------+\n",
      "|            features|         prediction|trueLabel|\n",
      "+--------------------+-------------------+---------+\n",
      "|[1.0,1.0,10140.0,...| -5.549643029733337|      -18|\n",
      "|[1.0,1.0,10140.0,...| -5.549643029733337|      -17|\n",
      "|[1.0,1.0,10140.0,...|-3.5561614822716647|      -12|\n",
      "|[1.0,1.0,10140.0,...| 31.130070881777108|       41|\n",
      "|[1.0,1.0,10140.0,...|-3.7635011241449643|       -5|\n",
      "|[1.0,1.0,10140.0,...|-0.7732788029524564|        2|\n",
      "|[1.0,1.0,10140.0,...| 18.164795897933427|       19|\n",
      "|[1.0,1.0,10140.0,...| -13.73229884787929|      -13|\n",
      "|[1.0,1.0,10140.0,...| -9.745335752955947|      -25|\n",
      "|[1.0,1.0,10140.0,...|  -8.74859497922511|       -6|\n",
      "|[1.0,1.0,10140.0,...| -5.758372658032602|       -2|\n",
      "|[1.0,1.0,10140.0,...|-3.7648911105709306|      -11|\n",
      "|[1.0,1.0,10140.0,...|  82.95155620401181|       68|\n",
      "|[1.0,1.0,10140.0,...| -4.968508197366411|      -10|\n",
      "|[1.0,1.0,10140.0,...| 11.976084956057802|       13|\n",
      "|[1.0,1.0,10140.0,...|-11.963068443806842|      -17|\n",
      "|[1.0,1.0,10140.0,...| -8.972846122614333|      -16|\n",
      "|[1.0,1.0,10140.0,...| 0.9945616146940268|      -21|\n",
      "|[1.0,1.0,10140.0,...|  831.2796261324804|      812|\n",
      "|[1.0,1.0,10140.0,...| -8.025218202600971|        9|\n",
      "+--------------------+-------------------+---------+\n",
      "only showing top 20 rows\n",
      "\n"
     ]
    }
   ],
   "source": [
    "prediction = piplineModel.transform(test)\n",
    "predicted = prediction.select(\"features\", \"prediction\", \"trueLabel\")\n",
    "predicted.show()"
   ]
  },
  {
   "cell_type": "markdown",
   "metadata": {},
   "source": [
    "### Examine the Predicted and Actual Values\n",
    "You can plot the predicted values against the actual values to see how accurately the model has predicted. In a perfect model, the resulting scatter plot should form a perfect diagonal line with each predicted value being identical to the actual value - in practice, some variance is to be expected.\n",
    "Run the cells below to create a temporary table from the **predicted** DataFrame and then retrieve the predicted and actual label values using SQL. You can then display the results as a scatter plot, specifying **-** as the function to show the unaggregated values."
   ]
  },
  {
   "cell_type": "code",
   "execution_count": 7,
   "metadata": {},
   "outputs": [],
   "source": [
    "predicted.createOrReplaceTempView(\"regressionPredictions\")"
   ]
  },
  {
   "cell_type": "code",
   "execution_count": 9,
   "metadata": {},
   "outputs": [
    {
     "name": "stdout",
     "output_type": "stream",
     "text": [
      "+---------+-------------------+\n",
      "|trueLabel|         prediction|\n",
      "+---------+-------------------+\n",
      "|      -18| -5.549643029733337|\n",
      "|      -17| -5.549643029733337|\n",
      "|      -12|-3.5561614822716647|\n",
      "|       41| 31.130070881777108|\n",
      "|       -5|-3.7635011241449643|\n",
      "|        2|-0.7732788029524564|\n",
      "|       19| 18.164795897933427|\n",
      "|      -13| -13.73229884787929|\n",
      "|      -25| -9.745335752955947|\n",
      "|       -6|  -8.74859497922511|\n",
      "|       -2| -5.758372658032602|\n",
      "|      -11|-3.7648911105709306|\n",
      "|       68|  82.95155620401181|\n",
      "|      -10| -4.968508197366411|\n",
      "|       13| 11.976084956057802|\n",
      "|      -17|-11.963068443806842|\n",
      "|      -16| -8.972846122614333|\n",
      "|      -21| 0.9945616146940268|\n",
      "|      812|  831.2796261324804|\n",
      "|        9| -8.025218202600971|\n",
      "+---------+-------------------+\n",
      "only showing top 20 rows\n",
      "\n"
     ]
    }
   ],
   "source": [
    "spark.sql(\"SELECT trueLabel, prediction FROM regressionPredictions\").show()"
   ]
  },
  {
   "cell_type": "markdown",
   "metadata": {},
   "source": [
    "### Retrieve the Root Mean Square Error (RMSE)\n",
    "There are a number of metrics used to measure the variance between predicted and actual values. Of these, the root mean square error (RMSE) is a commonly used value that is measured in the same units as the predicted and actual values - so in this case, the RMSE indicates the average number of minutes between predicted and actual flight delay values. You can use the **RegressionEvaluator** class to retrieve the RMSE.\n"
   ]
  },
  {
   "cell_type": "code",
   "execution_count": 10,
   "metadata": {},
   "outputs": [
    {
     "name": "stdout",
     "output_type": "stream",
     "text": [
      "Root Mean Square Error (RMSE): 13.1789860356\n"
     ]
    }
   ],
   "source": [
    "from pyspark.ml.evaluation import RegressionEvaluator\n",
    "\n",
    "evaluator = RegressionEvaluator(labelCol=\"trueLabel\", predictionCol=\"prediction\", metricName=\"rmse\")\n",
    "rmse = evaluator.evaluate(prediction)\n",
    "print \"Root Mean Square Error (RMSE):\", rmse"
   ]
  },
  {
   "cell_type": "code",
   "execution_count": null,
   "metadata": {},
   "outputs": [],
   "source": []
  }
 ],
 "metadata": {
  "kernelspec": {
   "display_name": "Python 2",
   "language": "python",
   "name": "python2"
  },
  "language_info": {
   "codemirror_mode": {
    "name": "ipython",
    "version": 2
   },
   "file_extension": ".py",
   "mimetype": "text/x-python",
   "name": "python",
   "nbconvert_exporter": "python",
   "pygments_lexer": "ipython2",
   "version": "2.7.5"
  },
  "widgets": {
   "state": {
    "3cc3b0402bc44842aed785220d307db0": {
     "views": [
      {
       "cell_index": 8
      }
     ]
    },
    "76bc6e0b425942c3bf1e45506e6ed087": {
     "views": [
      {
       "cell_index": 8
      }
     ]
    },
    "9a621f8e3bc242bb8ca31f76cc02b5da": {
     "views": [
      {
       "cell_index": 8
      }
     ]
    },
    "d6eefac808724429915e0b32eea703c9": {
     "views": [
      {
       "cell_index": 8
      }
     ]
    }
   },
   "version": "1.2.0"
  }
 },
 "nbformat": 4,
 "nbformat_minor": 1
}
