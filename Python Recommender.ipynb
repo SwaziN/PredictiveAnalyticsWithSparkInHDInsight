{
 "cells": [
  {
   "cell_type": "markdown",
   "metadata": {},
   "source": [
    "## Collaborative Filtering\n",
    "Collaborative filtering is a machine learning technique that predicts ratings awarded to items by users.\n",
    "\n",
    "### Import the ALS class\n",
    "In this exercise, you will use the Alternating Least Squares collaborative filtering algorithm to creater a recommender."
   ]
  },
  {
   "cell_type": "code",
   "execution_count": 1,
   "metadata": {},
   "outputs": [],
   "source": [
    "import os\n",
    "os.environ[\"HADOOP_USER_NAME\"] = \"spark\"\n",
    "os.environ[\"SPARK_MAJOR_VERSION\"] = \"2\"\n",
    "os.environ[\"SPARK_HOME\"] = \"/usr/hdp/current/spark2-client\"\n",
    "import findspark\n",
    "findspark.init()\n",
    "import pyspark"
   ]
  },
  {
   "cell_type": "code",
   "execution_count": 2,
   "metadata": {
    "scrolled": false
   },
   "outputs": [],
   "source": [
    "from pyspark.sql.types import *\n",
    "from pyspark.sql.functions import *\n",
    "from pyspark.sql import SparkSession\n",
    "from pyspark.ml.recommendation import ALS"
   ]
  },
  {
   "cell_type": "markdown",
   "metadata": {},
   "source": [
    "### Load Source Data\n",
    "The source data for the recommender is in two files - one containing numeric IDs for movies and users, along with user ratings; and the other containing details of the movies."
   ]
  },
  {
   "cell_type": "code",
   "execution_count": 3,
   "metadata": {
    "scrolled": false
   },
   "outputs": [
    {
     "name": "stdout",
     "output_type": "stream",
     "text": [
      "+-------+------+------+----------+--------------------+--------------------+\n",
      "|movieId|userId|rating| timestamp|               title|              genres|\n",
      "+-------+------+------+----------+--------------------+--------------------+\n",
      "|     31|     1|   2.5|1260759144|Dangerous Minds (...|               Drama|\n",
      "|   1029|     1|   3.0|1260759179|        Dumbo (1941)|Animation|Childre...|\n",
      "|   1061|     1|   3.0|1260759182|     Sleepers (1996)|            Thriller|\n",
      "|   1129|     1|   2.0|1260759185|Escape from New Y...|Action|Adventure|...|\n",
      "|   1172|     1|   4.0|1260759205|Cinema Paradiso (...|               Drama|\n",
      "|   1263|     1|   2.0|1260759151|Deer Hunter, The ...|           Drama|War|\n",
      "|   1287|     1|   2.0|1260759187|      Ben-Hur (1959)|Action|Adventure|...|\n",
      "|   1293|     1|   2.0|1260759148|       Gandhi (1982)|               Drama|\n",
      "|   1339|     1|   3.5|1260759125|Dracula (Bram Sto...|Fantasy|Horror|Ro...|\n",
      "|   1343|     1|   2.0|1260759131|    Cape Fear (1991)|            Thriller|\n",
      "|   1371|     1|   2.5|1260759135|Star Trek: The Mo...|    Adventure|Sci-Fi|\n",
      "|   1405|     1|   1.0|1260759203|Beavis and Butt-H...|Adventure|Animati...|\n",
      "|   1953|     1|   4.0|1260759191|French Connection...|Action|Crime|Thri...|\n",
      "|   2105|     1|   4.0|1260759139|         Tron (1982)|Action|Adventure|...|\n",
      "|   2150|     1|   3.0|1260759194|Gods Must Be Craz...|    Adventure|Comedy|\n",
      "|   2193|     1|   2.0|1260759198|       Willow (1988)|Action|Adventure|...|\n",
      "|   2294|     1|   2.0|1260759108|         Antz (1998)|Adventure|Animati...|\n",
      "|   2455|     1|   2.5|1260759113|     Fly, The (1986)|Drama|Horror|Sci-...|\n",
      "|   2968|     1|   1.0|1260759200| Time Bandits (1981)|Adventure|Comedy|...|\n",
      "|   3671|     1|   3.0|1260759117|Blazing Saddles (...|      Comedy|Western|\n",
      "+-------+------+------+----------+--------------------+--------------------+\n",
      "only showing top 20 rows\n",
      "\n"
     ]
    }
   ],
   "source": [
    "spark = SparkSession.builder.appName('python-recommenders').getOrCreate()\n",
    "spark.conf.set('spark.executor.memory', '3g')\n",
    "spark.conf.set('spark.executor.cores', '3')\n",
    "spark.conf.set('spark.cores.max', '3')\n",
    "spark.conf.set('spark.driver.memory','3g')\n",
    "ratings = spark.read.csv('/user/maria_dev/data/ratings.csv', inferSchema=True, header=True)\n",
    "movies = spark.read.csv('/user/maria_dev/data/movies.csv', inferSchema=True, header=True)\n",
    "ratings.join(movies, \"movieId\").show()"
   ]
  },
  {
   "cell_type": "markdown",
   "metadata": {},
   "source": [
    "### Prepare the Data\n",
    "To prepare the data, split it into a training set and a test set."
   ]
  },
  {
   "cell_type": "code",
   "execution_count": 4,
   "metadata": {},
   "outputs": [
    {
     "name": "stdout",
     "output_type": "stream",
     "text": [
      "Training Rows: 69867  Testing Rows: 30137\n"
     ]
    }
   ],
   "source": [
    "data = ratings.select(\"userId\", \"movieId\", \"rating\")\n",
    "splits = data.randomSplit([0.7, 0.3])\n",
    "train = splits[0].withColumnRenamed(\"rating\", \"label\")\n",
    "test = splits[1].withColumnRenamed(\"rating\", \"trueLabel\")\n",
    "train_rows = train.count()\n",
    "test_rows = test.count()\n",
    "print \"Training Rows:\", train_rows, \" Testing Rows:\", test_rows"
   ]
  },
  {
   "cell_type": "markdown",
   "metadata": {},
   "source": [
    "### Build the Recommender\n",
    "The ALS class is an estimator, so you can use its **fit** method to traing a model, or you can include it in a pipeline. Rather than specifying a feature vector and as label, the ALS algorithm requries a numeric user ID, item ID, and rating."
   ]
  },
  {
   "cell_type": "code",
   "execution_count": 5,
   "metadata": {
    "scrolled": false
   },
   "outputs": [],
   "source": [
    "als = ALS(maxIter=5, regParam=0.01, userCol=\"userId\", itemCol=\"movieId\", ratingCol=\"label\")\n",
    "model = als.fit(train)"
   ]
  },
  {
   "cell_type": "markdown",
   "metadata": {},
   "source": [
    "### Test the Recommender\n",
    "Now that you've trained the recommender, you can see how accurately it predicts known ratings in the test set."
   ]
  },
  {
   "cell_type": "code",
   "execution_count": 6,
   "metadata": {
    "scrolled": false
   },
   "outputs": [
    {
     "name": "stdout",
     "output_type": "stream",
     "text": [
      "+------+--------------------------------+----------+---------+\n",
      "|userId|title                           |prediction|trueLabel|\n",
      "+------+--------------------------------+----------+---------+\n",
      "|575   |Awfully Big Adventure, An (1995)|NaN       |4.0      |\n",
      "|548   |Hudsucker Proxy, The (1994)     |3.1679552 |4.0      |\n",
      "|588   |Hudsucker Proxy, The (1994)     |1.6704364 |3.0      |\n",
      "|126   |Hudsucker Proxy, The (1994)     |3.3189821 |5.0      |\n",
      "|299   |Hudsucker Proxy, The (1994)     |4.6013494 |4.5      |\n",
      "|309   |Hudsucker Proxy, The (1994)     |4.1317673 |4.0      |\n",
      "|358   |Hudsucker Proxy, The (1994)     |4.0440507 |5.0      |\n",
      "|537   |Hudsucker Proxy, The (1994)     |4.0770736 |5.0      |\n",
      "|380   |Hudsucker Proxy, The (1994)     |3.4695451 |4.0      |\n",
      "|285   |Hudsucker Proxy, The (1994)     |2.8520844 |5.0      |\n",
      "|86    |Hudsucker Proxy, The (1994)     |4.351843  |4.0      |\n",
      "|19    |Hudsucker Proxy, The (1994)     |4.078237  |3.0      |\n",
      "|514   |Hudsucker Proxy, The (1994)     |4.321982  |4.0      |\n",
      "|585   |Hudsucker Proxy, The (1994)     |4.1968813 |4.0      |\n",
      "|102   |Hudsucker Proxy, The (1994)     |4.3163624 |5.0      |\n",
      "|73    |Hudsucker Proxy, The (1994)     |4.019977  |4.0      |\n",
      "|195   |Hudsucker Proxy, The (1994)     |3.5552864 |3.0      |\n",
      "|487   |Hudsucker Proxy, The (1994)     |2.7343028 |4.0      |\n",
      "|468   |Hudsucker Proxy, The (1994)     |3.0506985 |4.0      |\n",
      "|580   |Dirty Dancing (1987)            |3.3474813 |3.0      |\n",
      "|133   |Dirty Dancing (1987)            |1.9786047 |1.5      |\n",
      "|15    |Dirty Dancing (1987)            |2.3034055 |2.0      |\n",
      "|358   |Dirty Dancing (1987)            |2.7482386 |3.0      |\n",
      "|564   |Dirty Dancing (1987)            |2.169939  |2.0      |\n",
      "|387   |Dirty Dancing (1987)            |2.3387742 |4.0      |\n",
      "|97    |Dirty Dancing (1987)            |2.7594635 |2.0      |\n",
      "|200   |Dirty Dancing (1987)            |2.2499328 |1.0      |\n",
      "|370   |Dirty Dancing (1987)            |3.255516  |3.0      |\n",
      "|242   |Dirty Dancing (1987)            |3.819893  |5.0      |\n",
      "|52    |Dirty Dancing (1987)            |5.167412  |4.0      |\n",
      "|621   |Dirty Dancing (1987)            |2.384258  |3.5      |\n",
      "|575   |Dirty Dancing (1987)            |3.7794516 |3.0      |\n",
      "|232   |Local Hero (1983)               |4.2117805 |4.0      |\n",
      "|547   |Local Hero (1983)               |2.241278  |4.0      |\n",
      "|373   |Local Hero (1983)               |4.364322  |4.0      |\n",
      "|405   |Local Hero (1983)               |4.862274  |4.5      |\n",
      "|580   |Candyman (1992)                 |2.5794637 |3.0      |\n",
      "|388   |Candyman (1992)                 |3.022496  |4.0      |\n",
      "|471   |Candyman (1992)                 |2.4367225 |2.5      |\n",
      "|308   |Candyman (1992)                 |2.0126977 |4.0      |\n",
      "|564   |Candyman (1992)                 |3.6450725 |5.0      |\n",
      "|95    |Candyman (1992)                 |2.7041838 |4.0      |\n",
      "|243   |Men in Black (a.k.a. MIB) (1997)|3.6083813 |3.0      |\n",
      "|472   |Men in Black (a.k.a. MIB) (1997)|3.3507519 |5.0      |\n",
      "|253   |Men in Black (a.k.a. MIB) (1997)|4.084324  |3.5      |\n",
      "|463   |Men in Black (a.k.a. MIB) (1997)|3.4462895 |4.0      |\n",
      "|128   |Men in Black (a.k.a. MIB) (1997)|4.703405  |4.0      |\n",
      "|53    |Men in Black (a.k.a. MIB) (1997)|3.6881332 |3.0      |\n",
      "|665   |Men in Black (a.k.a. MIB) (1997)|3.431966  |4.0      |\n",
      "|146   |Men in Black (a.k.a. MIB) (1997)|3.5344737 |3.5      |\n",
      "|212   |Men in Black (a.k.a. MIB) (1997)|3.1160774 |1.5      |\n",
      "|596   |Men in Black (a.k.a. MIB) (1997)|3.7346017 |3.0      |\n",
      "|94    |Men in Black (a.k.a. MIB) (1997)|3.2070737 |3.0      |\n",
      "|491   |Men in Black (a.k.a. MIB) (1997)|3.3832033 |3.0      |\n",
      "|646   |Men in Black (a.k.a. MIB) (1997)|4.557604  |5.0      |\n",
      "|560   |Men in Black (a.k.a. MIB) (1997)|4.3282804 |3.0      |\n",
      "|43    |Men in Black (a.k.a. MIB) (1997)|3.1865387 |4.0      |\n",
      "|502   |Men in Black (a.k.a. MIB) (1997)|3.488572  |4.0      |\n",
      "|263   |Men in Black (a.k.a. MIB) (1997)|3.5807083 |4.0      |\n",
      "|97    |Men in Black (a.k.a. MIB) (1997)|2.2586098 |2.5      |\n",
      "|159   |Men in Black (a.k.a. MIB) (1997)|3.3095193 |3.5      |\n",
      "|351   |Men in Black (a.k.a. MIB) (1997)|3.6431298 |5.0      |\n",
      "|592   |Men in Black (a.k.a. MIB) (1997)|4.8160605 |4.0      |\n",
      "|534   |Men in Black (a.k.a. MIB) (1997)|4.3349423 |4.0      |\n",
      "|105   |Men in Black (a.k.a. MIB) (1997)|3.06142   |4.0      |\n",
      "|525   |Men in Black (a.k.a. MIB) (1997)|3.8494346 |5.0      |\n",
      "|119   |Men in Black (a.k.a. MIB) (1997)|3.4239035 |4.0      |\n",
      "|466   |Men in Black (a.k.a. MIB) (1997)|3.9113698 |3.0      |\n",
      "|313   |Men in Black (a.k.a. MIB) (1997)|4.104032  |4.0      |\n",
      "|246   |Men in Black (a.k.a. MIB) (1997)|3.9131634 |5.0      |\n",
      "|584   |Men in Black (a.k.a. MIB) (1997)|3.3288863 |4.0      |\n",
      "|305   |Men in Black (a.k.a. MIB) (1997)|1.8136435 |3.0      |\n",
      "|178   |Men in Black (a.k.a. MIB) (1997)|3.54395   |4.0      |\n",
      "|164   |Men in Black (a.k.a. MIB) (1997)|3.22079   |3.5      |\n",
      "|452   |Men in Black (a.k.a. MIB) (1997)|3.2247725 |4.0      |\n",
      "|607   |Men in Black (a.k.a. MIB) (1997)|3.848724  |4.5      |\n",
      "|88    |Men in Black (a.k.a. MIB) (1997)|2.7529469 |2.5      |\n",
      "|531   |Men in Black (a.k.a. MIB) (1997)|2.2756038 |3.0      |\n",
      "|17    |Men in Black (a.k.a. MIB) (1997)|2.6657557 |2.5      |\n",
      "|627   |Men in Black (a.k.a. MIB) (1997)|2.9327497 |3.0      |\n",
      "|664   |Men in Black (a.k.a. MIB) (1997)|3.9424422 |4.0      |\n",
      "|418   |Men in Black (a.k.a. MIB) (1997)|3.968582  |4.0      |\n",
      "|73    |Men in Black (a.k.a. MIB) (1997)|3.6041226 |3.0      |\n",
      "|214   |Men in Black (a.k.a. MIB) (1997)|4.096275  |5.0      |\n",
      "|574   |Men in Black (a.k.a. MIB) (1997)|3.5457616 |3.5      |\n",
      "|575   |Men in Black (a.k.a. MIB) (1997)|2.7004046 |1.0      |\n",
      "|68    |Men in Black (a.k.a. MIB) (1997)|4.235748  |4.0      |\n",
      "|248   |Men in Black (a.k.a. MIB) (1997)|3.8246078 |3.0      |\n",
      "|99    |Men in Black (a.k.a. MIB) (1997)|2.9660034 |3.0      |\n",
      "|405   |Men in Black (a.k.a. MIB) (1997)|3.1741145 |4.5      |\n",
      "|311   |Men in Black (a.k.a. MIB) (1997)|3.4954262 |3.0      |\n",
      "|562   |Men in Black (a.k.a. MIB) (1997)|4.514865  |4.0      |\n",
      "|41    |Spawn (1997)                    |2.1886055 |4.0      |\n",
      "|564   |Spawn (1997)                    |2.4038396 |3.0      |\n",
      "|380   |Spawn (1997)                    |3.097434  |4.0      |\n",
      "|119   |Spawn (1997)                    |1.5404645 |2.0      |\n",
      "|397   |Spawn (1997)                    |3.2038083 |2.5      |\n",
      "|173   |Spawn (1997)                    |2.3102572 |3.0      |\n",
      "|468   |Spawn (1997)                    |1.8037661 |1.5      |\n",
      "|243   |The Devil's Advocate (1997)     |3.1049416 |3.0      |\n",
      "+------+--------------------------------+----------+---------+\n",
      "only showing top 100 rows\n",
      "\n"
     ]
    }
   ],
   "source": [
    "prediction = model.transform(test)\n",
    "prediction.join(movies, \"movieId\").select(\"userId\", \"title\", \"prediction\", \"trueLabel\").show(100, truncate=False)"
   ]
  },
  {
   "cell_type": "markdown",
   "metadata": {},
   "source": [
    "The data used in this exercise describes 5-star rating activity from [MovieLens](http://movielens.org), a movie recommendation service. It was created by GroupLens, a research group in the Department of Computer Science and Engineering at the University of Minnesota, and is used here with permission.\n",
    "\n",
    "This dataset and other GroupLens data sets are publicly available for download at <http://grouplens.org/datasets/>.\n",
    "\n",
    "For more information, see F. Maxwell Harper and Joseph A. Konstan. 2015. [The MovieLens Datasets: History and Context. ACM Transactions on Interactive Intelligent Systems (TiiS) 5, 4, Article 19 (December 2015)](http://dx.doi.org/10.1145/2827872)"
   ]
  }
 ],
 "metadata": {
  "kernelspec": {
   "display_name": "Python 2",
   "language": "python",
   "name": "python2"
  },
  "language_info": {
   "codemirror_mode": {
    "name": "ipython",
    "version": 2
   },
   "file_extension": ".py",
   "mimetype": "text/x-python",
   "name": "python",
   "nbconvert_exporter": "python",
   "pygments_lexer": "ipython2",
   "version": "2.7.5"
  }
 },
 "nbformat": 4,
 "nbformat_minor": 1
}
