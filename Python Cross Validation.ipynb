{
 "cells": [
  {
   "cell_type": "markdown",
   "metadata": {},
   "source": [
    "## Using Cross Validation\n",
    "\n",
    "In this exercise, you will use cross-validation to optimize parameters for a regression model.\n",
    "\n",
    "### Prepare the Data\n",
    "\n",
    "First, import the libraries you will need and prepare the training and test data:"
   ]
  },
  {
   "cell_type": "code",
   "execution_count": 1,
   "metadata": {},
   "outputs": [],
   "source": [
    "import os\n",
    "os.environ[\"HADOOP_USER_NAME\"] = \"spark\"\n",
    "os.environ[\"SPARK_MAJOR_VERSION\"] = \"2\"\n",
    "os.environ[\"SPARK_HOME\"] = \"/usr/hdp/current/spark2-client\"\n",
    "import findspark\n",
    "findspark.init()\n",
    "import pyspark"
   ]
  },
  {
   "cell_type": "code",
   "execution_count": 2,
   "metadata": {
    "scrolled": false
   },
   "outputs": [],
   "source": [
    "# Import Spark SQL and Spark ML libraries\n",
    "from pyspark.sql.types import *\n",
    "from pyspark.sql.functions import *\n",
    "from pyspark.sql import SparkSession\n",
    "from pyspark.ml import Pipeline\n",
    "from pyspark.ml.regression import LinearRegression\n",
    "from pyspark.ml.feature import VectorAssembler\n",
    "from pyspark.ml.tuning import ParamGridBuilder, CrossValidator\n",
    "from pyspark.ml.evaluation import RegressionEvaluator"
   ]
  },
  {
   "cell_type": "code",
   "execution_count": 3,
   "metadata": {},
   "outputs": [],
   "source": [
    "spark = SparkSession.builder.appName('python-cross-validation').getOrCreate()\n",
    "spark.conf.set('spark.executor.memory', '3g')\n",
    "spark.conf.set('spark.executor.cores', '3')\n",
    "spark.conf.set('spark.cores.max', '3')\n",
    "spark.conf.set('spark.driver.memory','3g')"
   ]
  },
  {
   "cell_type": "code",
   "execution_count": 4,
   "metadata": {},
   "outputs": [],
   "source": [
    "# Load the source data\n",
    "csv = spark.read.csv('/user/maria_dev/data/flights.csv', inferSchema=True, header=True)\n",
    "\n",
    "# Select features and label\n",
    "data = csv.select(\"DayofMonth\", \"DayOfWeek\", \"OriginAirportID\", \"DestAirportID\", \"DepDelay\", col(\"ArrDelay\").alias(\"label\"))\n",
    "\n",
    "# Split the data\n",
    "splits = data.randomSplit([0.7, 0.3])\n",
    "train = splits[0]\n",
    "test = splits[1].withColumnRenamed(\"label\", \"trueLabel\")"
   ]
  },
  {
   "cell_type": "markdown",
   "metadata": {},
   "source": [
    "### Define the Pipeline\n",
    "Now define a pipeline that creates a feature vector and trains a regression model"
   ]
  },
  {
   "cell_type": "code",
   "execution_count": 5,
   "metadata": {
    "scrolled": false
   },
   "outputs": [],
   "source": [
    "# Define the pipeline\n",
    "assembler = VectorAssembler(inputCols = [\"DayofMonth\", \"DayOfWeek\", \"OriginAirportID\", \"DestAirportID\", \"DepDelay\"], outputCol=\"features\")\n",
    "lr = LinearRegression(labelCol=\"label\",featuresCol=\"features\")\n",
    "pipeline = Pipeline(stages=[assembler, lr])"
   ]
  },
  {
   "cell_type": "markdown",
   "metadata": {},
   "source": [
    "### Tune Parameters\n",
    "You can tune parameters to find the best model for your data. To do this you can use the  **CrossValidator** class to evaluate each combination of parameters defined in a **ParameterGrid** against multiple *folds* of the data split into training and validation datasets, in order to find the best performing parameters. Note that this can take a long time to run because every parameter combination is tried multiple times."
   ]
  },
  {
   "cell_type": "code",
   "execution_count": 6,
   "metadata": {},
   "outputs": [],
   "source": [
    "paramGrid = ParamGridBuilder().addGrid(lr.regParam, [0.3, 0.01]).addGrid(lr.maxIter, [10, 5]).build()\n",
    "cv = CrossValidator(estimator=pipeline, evaluator=RegressionEvaluator(), estimatorParamMaps=paramGrid, numFolds=2)\n",
    "\n",
    "model = cv.fit(train)"
   ]
  },
  {
   "cell_type": "markdown",
   "metadata": {},
   "source": [
    "### Test the Model\n",
    "Now you're ready to apply the model to the test data."
   ]
  },
  {
   "cell_type": "code",
   "execution_count": 7,
   "metadata": {
    "scrolled": false
   },
   "outputs": [
    {
     "name": "stdout",
     "output_type": "stream",
     "text": [
      "+--------------------+-------------------+---------+\n",
      "|            features|         prediction|trueLabel|\n",
      "+--------------------+-------------------+---------+\n",
      "|[1.0,1.0,10140.0,...|  -7.66882576082442|      -11|\n",
      "|[1.0,1.0,10140.0,...|-5.6599242675222925|      -18|\n",
      "|[1.0,1.0,10140.0,...|-5.6599242675222925|      -17|\n",
      "|[1.0,1.0,10140.0,...| -3.651022774220165|      -12|\n",
      "|[1.0,1.0,10140.0,...| -3.651022774220165|       -9|\n",
      "|[1.0,1.0,10140.0,...| 0.2680248602125137|        4|\n",
      "|[1.0,1.0,10140.0,...|  4.285827846816769|       -9|\n",
      "|[1.0,1.0,10140.0,...|-6.8651465084467045|      -11|\n",
      "|[1.0,1.0,10140.0,...| -4.856245015144577|      -11|\n",
      "|[1.0,1.0,10140.0,...|  8.201614691319254|        5|\n",
      "|[1.0,1.0,10140.0,...|  20.25502365113202|       14|\n",
      "|[1.0,1.0,10140.0,...|  -5.86838190948824|       -5|\n",
      "|[1.0,1.0,10140.0,...| 37.323000196507515|       38|\n",
      "|[1.0,1.0,10140.0,...|-13.905385364095405|      -19|\n",
      "|[1.0,1.0,10140.0,...|-13.905385364095405|      -15|\n",
      "|[1.0,1.0,10140.0,...|  -9.88758237749115|      -25|\n",
      "|[1.0,1.0,10140.0,...| -8.883131630840087|       -6|\n",
      "|[1.0,1.0,10140.0,...| -7.878680884189022|       -1|\n",
      "|[1.0,1.0,10140.0,...| -5.869779390886894|       -2|\n",
      "|[1.0,1.0,10140.0,...| -4.865328644235831|       -9|\n",
      "+--------------------+-------------------+---------+\n",
      "only showing top 20 rows\n",
      "\n"
     ]
    }
   ],
   "source": [
    "prediction = model.transform(test)\n",
    "predicted = prediction.select(\"features\", \"prediction\", \"trueLabel\")\n",
    "predicted.show()"
   ]
  },
  {
   "cell_type": "markdown",
   "metadata": {},
   "source": [
    "### Examine the Predicted and Actual Values\n",
    "You can plot the predicted values against the actual values to see how accurately the model has predicted. In a perfect model, the resulting scatter plot should form a perfect diagonal line with each predicted value being identical to the actual value - in practice, some variance is to be expected.\n",
    "Run the cells below to create a temporary table from the **predicted** DataFrame and then retrieve the predicted and actual label values using SQL. You can then display the results as a scatter plot, specifying **-** as the function to show the unaggregated values."
   ]
  },
  {
   "cell_type": "code",
   "execution_count": 8,
   "metadata": {},
   "outputs": [],
   "source": [
    "predicted.createOrReplaceTempView(\"regressionPredictions\")"
   ]
  },
  {
   "cell_type": "code",
   "execution_count": 9,
   "metadata": {},
   "outputs": [
    {
     "name": "stdout",
     "output_type": "stream",
     "text": [
      "+---------+-------------------+\n",
      "|trueLabel|         prediction|\n",
      "+---------+-------------------+\n",
      "|      -11|  -7.66882576082442|\n",
      "|      -18|-5.6599242675222925|\n",
      "|      -17|-5.6599242675222925|\n",
      "|      -12| -3.651022774220165|\n",
      "|       -9| -3.651022774220165|\n",
      "|        4| 0.2680248602125137|\n",
      "|       -9|  4.285827846816769|\n",
      "|      -11|-6.8651465084467045|\n",
      "|      -11| -4.856245015144577|\n",
      "|        5|  8.201614691319254|\n",
      "|       14|  20.25502365113202|\n",
      "|       -5|  -5.86838190948824|\n",
      "|       38| 37.323000196507515|\n",
      "|      -19|-13.905385364095405|\n",
      "|      -15|-13.905385364095405|\n",
      "|      -25|  -9.88758237749115|\n",
      "|       -6| -8.883131630840087|\n",
      "|       -1| -7.878680884189022|\n",
      "|       -2| -5.869779390886894|\n",
      "|       -9| -4.865328644235831|\n",
      "+---------+-------------------+\n",
      "only showing top 20 rows\n",
      "\n"
     ]
    }
   ],
   "source": [
    "spark.sql(\"SELECT trueLabel, prediction FROM regressionPredictions\").show()"
   ]
  },
  {
   "cell_type": "markdown",
   "metadata": {},
   "source": [
    "### Retrieve the Root Mean Square Error (RMSE)\n",
    "There are a number of metrics used to measure the variance between predicted and actual values. Of these, the root mean square error (RMSE) is a commonly used value that is measured in the same units as the prediced and actual values - so in this case, the RMSE indicates the average number of minutes between predicted and actual flight delay values. You can use the **RegressionEvaluator** class to retrieve the RMSE.\n"
   ]
  },
  {
   "cell_type": "code",
   "execution_count": 10,
   "metadata": {},
   "outputs": [
    {
     "name": "stdout",
     "output_type": "stream",
     "text": [
      "Root Mean Square Error (RMSE): 13.1966381616\n"
     ]
    }
   ],
   "source": [
    "evaluator = RegressionEvaluator(labelCol=\"trueLabel\", predictionCol=\"prediction\", metricName=\"rmse\")\n",
    "rmse = evaluator.evaluate(prediction)\n",
    "print \"Root Mean Square Error (RMSE):\", rmse"
   ]
  },
  {
   "cell_type": "markdown",
   "metadata": {},
   "source": [
    "### Identify the optimal parameters"
   ]
  },
  {
   "cell_type": "code",
   "execution_count": 12,
   "metadata": {},
   "outputs": [
    {
     "name": "stdout",
     "output_type": "stream",
     "text": [
      "Best Param (regParam): 0.01\n",
      "Best Param (maxIter): 10\n"
     ]
    }
   ],
   "source": [
    "bestModel = model.bestModel.stages[-1]\n",
    "print('Best Param (regParam): {0}'.format(bestModel._java_obj.getRegParam()))\n",
    "print('Best Param (maxIter): {0}'.format(bestModel._java_obj.getMaxIter()))"
   ]
  },
  {
   "cell_type": "code",
   "execution_count": null,
   "metadata": {},
   "outputs": [],
   "source": []
  }
 ],
 "metadata": {
  "kernelspec": {
   "display_name": "Python 2",
   "language": "python",
   "name": "python2"
  },
  "language_info": {
   "codemirror_mode": {
    "name": "ipython",
    "version": 2
   },
   "file_extension": ".py",
   "mimetype": "text/x-python",
   "name": "python",
   "nbconvert_exporter": "python",
   "pygments_lexer": "ipython2",
   "version": "2.7.5"
  }
 },
 "nbformat": 4,
 "nbformat_minor": 1
}
